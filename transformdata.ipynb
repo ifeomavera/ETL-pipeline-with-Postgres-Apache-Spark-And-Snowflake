{
 "cells": [
  {
   "cell_type": "code",
   "execution_count": 29,
   "metadata": {},
   "outputs": [
    {
     "name": "stdout",
     "output_type": "stream",
     "text": [
      "+-------------------+\n",
      "|played_at          |\n",
      "+-------------------+\n",
      "|2025-03-29 01:30:46|\n",
      "|2025-03-29 01:32:49|\n",
      "|2025-03-29 01:35:48|\n",
      "|2025-03-29 01:37:49|\n",
      "|2025-03-29 01:42:10|\n",
      "|2025-03-29 01:45:10|\n",
      "|2025-03-29 01:48:15|\n",
      "|2025-03-29 01:51:23|\n",
      "|2025-03-29 01:54:55|\n",
      "|2025-03-29 01:57:53|\n",
      "|2025-03-29 02:00:28|\n",
      "|2025-03-29 02:02:31|\n",
      "|2025-03-29 02:05:23|\n",
      "|2025-03-29 02:07:52|\n",
      "|2025-03-29 02:10:10|\n",
      "|2025-03-29 02:12:11|\n",
      "|2025-03-29 02:16:11|\n",
      "|2025-03-29 02:19:38|\n",
      "|2025-03-29 02:22:25|\n",
      "|2025-03-29 02:25:22|\n",
      "+-------------------+\n",
      "only showing top 20 rows\n",
      "\n"
     ]
    }
   ],
   "source": [
    "from pyspark.sql import SparkSession\n",
    "from pyspark.sql import functions as F\n",
    "\n",
    "# Initialize Spark Session\n",
    "spark = SparkSession.builder.appName(\"SpotifyDataNormalization\").getOrCreate()\n",
    "\n",
    "# Read data into a dataframe\n",
    "df = spark.read.option(\"multiline\", \"true\").json(\"all_recent_tracks.json\")\n",
    "\n",
    "# Convert timestamp to normal date and time \n",
    "df = df.withColumn(\"played_at\", F.from_unixtime(F.col(\"played_at\") / 1000, \"yyyy-MM-dd HH:mm:ss\"))\n",
    "\n",
    "# Overwrite the CSV file, save as a single file\n",
    "df.coalesce(1).write.option(\"header\", \"true\").mode(\"overwrite\").csv(\"clean_tracks.csv\")\n",
    "\n",
    "# Show the transformed 'played_at' column\n",
    "df.select(\"played_at\").show(truncate=False)\n"
   ]
  },
  {
   "cell_type": "code",
   "execution_count": 30,
   "metadata": {},
   "outputs": [
    {
     "name": "stderr",
     "output_type": "stream",
     "text": [
      "<>:1: SyntaxWarning: invalid escape sequence '\\p'\n",
      "<>:1: SyntaxWarning: invalid escape sequence '\\p'\n",
      "C:\\Users\\IFEOMA\\AppData\\Local\\Temp\\ipykernel_9276\\441510881.py:1: SyntaxWarning: invalid escape sequence '\\p'\n",
      "  \"\"\" import shutil\n"
     ]
    },
    {
     "data": {
      "text/plain": [
       "' import shutil\\n# Move the part file to desired location\\npart_file = \"clean_tracks.csv\\\\part-00000-e767b6d4-f389-44a7-91b0-dec958759f38-c000.csv\"\\ndestination = \"clean_recent_tracks.csv\"\\nshutil.move(part_file,destination) '"
      ]
     },
     "execution_count": 30,
     "metadata": {},
     "output_type": "execute_result"
    }
   ],
   "source": [
    "\"\"\" import shutil\n",
    "# Move the part file to desired location\n",
    "part_file = \"clean_tracks.csv\\part-00000-e767b6d4-f389-44a7-91b0-dec958759f38-c000.csv\"\n",
    "destination = \"clean_recent_tracks.csv\"\n",
    "shutil.move(part_file,destination) \"\"\"\n"
   ]
  }
 ],
 "metadata": {
  "kernelspec": {
   "display_name": "Python 3",
   "language": "python",
   "name": "python3"
  },
  "language_info": {
   "codemirror_mode": {
    "name": "ipython",
    "version": 3
   },
   "file_extension": ".py",
   "mimetype": "text/x-python",
   "name": "python",
   "nbconvert_exporter": "python",
   "pygments_lexer": "ipython3",
   "version": "3.12.8"
  }
 },
 "nbformat": 4,
 "nbformat_minor": 2
}
